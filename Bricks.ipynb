{
 "cells": [
  {
   "cell_type": "code",
   "execution_count": 1,
   "id": "37a2eca0-b313-4759-9113-28a2461f60a9",
   "metadata": {},
   "outputs": [],
   "source": [
    "# !source .venv/bin/activate"
   ]
  },
  {
   "cell_type": "code",
   "execution_count": 2,
   "id": "d80fc9a7-80c1-4e18-855d-c1d00a6ed21b",
   "metadata": {},
   "outputs": [],
   "source": [
    "import os\n",
    "import torch\n",
    "from PIL import Image\n",
    "import numpy as np\n",
    "import cv2"
   ]
  },
  {
   "cell_type": "code",
   "execution_count": 3,
   "id": "941cc217-dd27-4ff4-ab55-5b3e7bafc33c",
   "metadata": {},
   "outputs": [],
   "source": [
    "from grounding_dino import groundingdino"
   ]
  },
  {
   "cell_type": "code",
   "execution_count": 4,
   "id": "d57df81c-4f1e-4444-b26f-7fbd14c96aea",
   "metadata": {},
   "outputs": [],
   "source": [
    "\n",
    "import sam2\n",
    "from sam2.utils.track_utils import sample_points_from_masks\n",
    "from sam2.utils.video_utils import create_video_from_images\n",
    "from sam2.build_sam import build_sam2_video_predictor, build_sam2\n",
    "from sam2.sam2_image_predictor import SAM2ImagePredictor\n",
    "\n"
   ]
  },
  {
   "cell_type": "code",
   "execution_count": 5,
   "id": "8a9b0717-87a7-4d39-a567-2c106a2496bf",
   "metadata": {},
   "outputs": [],
   "source": [
    "ROOT_DIR = '/workspace/SKU_segment/sku_segment'\n",
    "BASE_DIR = '/workspace/SKU_segment'"
   ]
  },
  {
   "cell_type": "code",
   "execution_count": 6,
   "id": "e6f0e8c7-2730-4689-87bf-ab43546decde",
   "metadata": {},
   "outputs": [
    {
     "name": "stdout",
     "output_type": "stream",
     "text": [
      "SAM2 image model loaded from /workspace/SKU_segment/checkpoints/sam2.1_hiera_large.pt\n",
      "image_predictor loaded from SAM2 image model\n"
     ]
    }
   ],
   "source": [
    "os.environ['CUDA_HOME'] = '/usr/local/cuda-12.1'\n",
    "\n",
    "device = (\"cuda\" if torch.cuda.is_available() else \"cpu\")\n",
    "\n",
    "\n",
    "sam2_config_dir = os.path.join(ROOT_DIR, 'configs')\n",
    "checkpoint_dir = os.path.join(BASE_DIR, 'checkpoints')\n",
    "sam2_checkpoint_name='sam2.1_hiera_large.pt'\n",
    "sam2_config_name='sam2.1_hiera_l.yaml'\n",
    "\n",
    "sam2_checkpoint = os.path.join(checkpoint_dir,sam2_checkpoint_name)\n",
    "sam2_model_cfg = os.path.join(sam2_config_dir,sam2_config_name)\n",
    "\n",
    "\n",
    "sam2_image_model = build_sam2(sam2_config_name, sam2_checkpoint, device=device)\n",
    "print(f\"SAM2 image model loaded from {sam2_checkpoint}\")\n",
    "\n",
    "image_predictor = SAM2ImagePredictor(sam2_image_model, device=device)\n",
    "print(f\"image_predictor loaded from SAM2 image model\")"
   ]
  },
  {
   "cell_type": "code",
   "execution_count": 7,
   "id": "b0465699-bd91-4f16-a3f9-f908225174b6",
   "metadata": {},
   "outputs": [
    {
     "name": "stderr",
     "output_type": "stream",
     "text": [
      "/workspace/SKU_segment/sku_segment/sam2/modeling/sam/transformer.py:270: UserWarning: Memory efficient kernel not used because: (Triggered internally at ../aten/src/ATen/native/transformers/cuda/sdp_utils.cpp:607.)\n",
      "  out = F.scaled_dot_product_attention(q, k, v, dropout_p=dropout_p)\n",
      "/workspace/SKU_segment/sku_segment/sam2/modeling/sam/transformer.py:270: UserWarning: Memory Efficient attention has been runtime disabled. (Triggered internally at ../aten/src/ATen/native/transformers/sdp_utils_cpp.h:495.)\n",
      "  out = F.scaled_dot_product_attention(q, k, v, dropout_p=dropout_p)\n",
      "/workspace/SKU_segment/sku_segment/sam2/modeling/sam/transformer.py:270: UserWarning: Flash attention kernel not used because: (Triggered internally at ../aten/src/ATen/native/transformers/cuda/sdp_utils.cpp:609.)\n",
      "  out = F.scaled_dot_product_attention(q, k, v, dropout_p=dropout_p)\n",
      "/workspace/SKU_segment/sku_segment/sam2/modeling/sam/transformer.py:270: UserWarning: Expected query, key and value to all be of dtype: {Half, BFloat16}. Got Query dtype: float, Key dtype: float, and Value dtype: float instead. (Triggered internally at ../aten/src/ATen/native/transformers/sdp_utils_cpp.h:98.)\n",
      "  out = F.scaled_dot_product_attention(q, k, v, dropout_p=dropout_p)\n",
      "/workspace/SKU_segment/sku_segment/sam2/modeling/sam/transformer.py:270: UserWarning: CuDNN attention kernel not used because: (Triggered internally at ../aten/src/ATen/native/transformers/cuda/sdp_utils.cpp:611.)\n",
      "  out = F.scaled_dot_product_attention(q, k, v, dropout_p=dropout_p)\n",
      "/workspace/SKU_segment/sku_segment/sam2/modeling/sam/transformer.py:270: UserWarning: The CuDNN backend needs to be enabled by setting the enviornment variable`TORCH_CUDNN_SDPA_ENABLED=1` (Triggered internally at ../aten/src/ATen/native/transformers/cuda/sdp_utils.cpp:409.)\n",
      "  out = F.scaled_dot_product_attention(q, k, v, dropout_p=dropout_p)\n",
      "/opt/conda/lib/python3.10/site-packages/torch/nn/modules/module.py:1541: UserWarning: Flash Attention kernel failed due to: No available kernel. Aborting execution.\n",
      "Falling back to all available kernels for scaled_dot_product_attention (which may have a slower speed).\n",
      "  return forward_call(*args, **kwargs)\n"
     ]
    },
    {
     "data": {
      "text/plain": [
       "True"
      ]
     },
     "execution_count": 7,
     "metadata": {},
     "output_type": "execute_result"
    }
   ],
   "source": [
    "image_path = 'brick_1.jpg'\n",
    "\n",
    "image_pil = Image.open(image_path).convert(\"RGB\")\n",
    "image_np = np.array(image_pil)\n",
    "vis_image = image_np.copy() \n",
    "image_predictor.set_image(image_pil)\n",
    "image_tensor = torch.tensor(image_np).permute(2, 0, 1).float() / 255.0\n",
    "\n",
    "\n",
    "prompt = \"brick\"\n",
    "\n",
    "h,w = image_pil.size\n",
    "\n",
    "x1 = 0\n",
    "y1 = 0\n",
    "x2 = w\n",
    "y2 = h\n",
    "\n",
    "\n",
    "# Predict masks\n",
    "sam_masks, scores, _ = image_predictor.predict(\n",
    "    box=np.array([x1, y1, x2, y2]),\n",
    "    multimask_output=False,\n",
    "    return_logits=False,\n",
    ")\n",
    "\n",
    "best_mask = sam_masks[0]\n",
    "best_mask = 1 - best_mask\n",
    "Image.fromarray((best_mask * 255).astype(np.uint8)).save(os.path.join('', image_path.replace(\".jpg\", \"_mask.png\")))\n",
    "\n",
    "# Overlay mask on vis_image\n",
    "mask_color = np.zeros_like(vis_image)\n",
    "mask_color[best_mask > 0] = (0, 255, 0)  # Green\n",
    "vis_image = cv2.addWeighted(vis_image, 1.0, mask_color, 0.3, 0)\n",
    "\n",
    "\n",
    "vis_path = os.path.join('', image_path.replace(\".jpg\", \"_overlay.jpg\"))\n",
    "cv2.imwrite(vis_path, cv2.cvtColor(vis_image, cv2.COLOR_RGB2BGR))"
   ]
  },
  {
   "cell_type": "code",
   "execution_count": 8,
   "id": "20541618-7aaf-405a-ba3b-26fa5f16d985",
   "metadata": {},
   "outputs": [],
   "source": [
    "\n",
    "kernel = cv2.getStructuringElement(cv2.MORPH_RECT, (3,3))\n",
    "clean_mask  = cv2.morphologyEx(best_mask, cv2.MORPH_OPEN, kernel, iterations=2)\n",
    "clean_mask  = cv2.morphologyEx(clean_mask, cv2.MORPH_CLOSE, kernel, iterations=2)\n",
    "\n",
    "mask_uint8 = (clean_mask * 255).astype(np.uint8)\n",
    "\n",
    "Image.fromarray((clean_mask * 255).astype(np.uint8)).save(os.path.join('', image_path.replace(\".jpg\", \"_mask_cleaned.png\")))\n"
   ]
  },
  {
   "cell_type": "code",
   "execution_count": 9,
   "id": "ddcf033e-74cd-416a-bd2e-ee1e2f8cc96e",
   "metadata": {},
   "outputs": [
    {
     "name": "stdout",
     "output_type": "stream",
     "text": [
      "8 contours found\n"
     ]
    }
   ],
   "source": [
    "min_area_px = 100\n",
    "\n",
    "def area_norm(S):\n",
    "    return S/(image_pil.size[0]*image_pil.size[1])\n",
    "\n",
    "\n",
    "def aspect_penalty(x):\n",
    "    if 1.5 < x < 2.2:\n",
    "        return 1\n",
    "    else:\n",
    "        return 0\n",
    "\n",
    "\n",
    "def vertex_penalty(n):\n",
    "    if 4 <= n <= 6:\n",
    "        return 1\n",
    "    else:\n",
    "        return 0\n",
    "\n",
    "        \n",
    "contours, _ = cv2.findContours(mask_uint8, cv2.RETR_EXTERNAL, cv2.CHAIN_APPROX_SIMPLE)\n",
    "print(f\"{len(contours)} contours found\")\n",
    "\n",
    "\n",
    "candidates = []\n",
    "for cnt in contours:\n",
    "    area = cv2.contourArea(cnt)\n",
    "    if area < min_area_px:          # weed out speckles\n",
    "        continue\n",
    "\n",
    "    hull = cv2.convexHull(cnt)\n",
    "    solidity = area / cv2.contourArea(hull)\n",
    "\n",
    "    # polygonal approximation\n",
    "    eps = 0.01 * cv2.arcLength(cnt, True)\n",
    "    poly = cv2.approxPolyDP(hull, eps, True)\n",
    "    n = len(poly)\n",
    "\n",
    "    # min‑area rectangle\n",
    "    rect = cv2.minAreaRect(cnt)\n",
    "    w,h = rect[1]\n",
    "    if min(w,h) == 0:               # degenerate\n",
    "        continue\n",
    "    aspect = max(w,h) / min(w,h)\n",
    "\n",
    "    score = (\n",
    "        0.2 * area_norm(area) +     # size dominates\n",
    "        0.0 * solidity +            # prefer compact\n",
    "        0.0 * aspect_penalty(aspect) +\n",
    "        0.0 * vertex_penalty(n)     # gentle push toward 4–6 verts\n",
    "    )\n",
    "    candidates.append((score, cnt, poly))\n",
    "\n",
    "\n",
    "best = max(candidates, key=lambda x: x[0])\n",
    "best_cnt, best_poly = best[1], best[2]\n",
    "\n",
    "\n",
    "# contour = max(contours, key=cv2.contourArea)\n",
    "# epsilon = 0.01 * cv2.arcLength(contour, True)\n",
    "# hull = cv2.convexHull(contour)\n",
    "# approx = cv2.approxPolyDP(hull, epsilon, True)\n",
    "\n",
    "# if 4 <= len(approx) <= 6:\n",
    "#     best_poly = approx"
   ]
  },
  {
   "cell_type": "code",
   "execution_count": 10,
   "id": "8022b976-99d3-45c4-951d-1f1ce0ad2aa0",
   "metadata": {},
   "outputs": [],
   "source": [
    "import matplotlib.pyplot as plt\n",
    "\n",
    "canvas = cv2.cvtColor(clean_mask, cv2.COLOR_GRAY2BGR)\n",
    "\n",
    "# Draw polygon outline\n",
    "cv2.polylines(canvas, [best_poly], isClosed=True, color=(0, 255, 0), thickness=2)\n",
    "\n",
    "# Draw vertices\n",
    "for (x, y) in best_poly.reshape(-1, 2):\n",
    "    cv2.circle(canvas, (x, y), 4, (0, 0, 255), -1)\n",
    "\n",
    "# Show the result\n",
    "# plt.figure(figsize=(6, 6))\n",
    "# plt.title(f\"Contour {i} — Polygon with {len(approx)} vertices\")\n",
    "# plt.imshow(cv2.cvtColor(canvas, cv2.COLOR_BGR2RGB))\n",
    "# plt.axis(\"off\")\n",
    "# plt.show()\n",
    "\n",
    "\n",
    "\n",
    "# for i, cnt in enumerate(contours):\n",
    "#     print(f\"Contour {i}\")\n",
    "\n",
    "#     # Convex hull (optional)\n",
    "#     hull = cv2.convexHull(cnt)\n",
    "\n",
    "#     # Polygonal approximation\n",
    "#     epsilon = 0.01 * cv2.arcLength(hull, True)\n",
    "#     approx = cv2.approxPolyDP(hull, epsilon, True)\n",
    "\n",
    "#     # Make a fresh canvas per contour\n",
    "#     canvas = cv2.cvtColor(clean_mask, cv2.COLOR_GRAY2BGR)\n",
    "\n",
    "#     # Draw polygon outline\n",
    "#     cv2.polylines(canvas, [approx], isClosed=True, color=(0, 255, 0), thickness=2)\n",
    "\n",
    "#     # Draw vertices\n",
    "#     for (x, y) in approx.reshape(-1, 2):\n",
    "#         cv2.circle(canvas, (x, y), 4, (0, 0, 255), -1)\n",
    "\n",
    "#     # Show the result\n",
    "#     plt.figure(figsize=(6, 6))\n",
    "#     plt.title(f\"Contour {i} — Polygon with {len(approx)} vertices\")\n",
    "#     plt.imshow(cv2.cvtColor(canvas, cv2.COLOR_BGR2RGB))\n",
    "#     plt.axis(\"off\")\n",
    "#     plt.show()\n",
    "\n",
    "\n"
   ]
  },
  {
   "cell_type": "code",
   "execution_count": 11,
   "id": "1bd7e9d0-9b1c-48f0-9958-1c2d2097f471",
   "metadata": {},
   "outputs": [],
   "source": [
    "import cv2\n",
    "import numpy as np\n",
    "\n",
    "def split_brick_face(hexagon: np.ndarray):\n",
    "    \"\"\"\n",
    "    hexagon : (6,2) array of xy vertices, ordered around the perimeter.\n",
    "    Returns:\n",
    "        quad_A, quad_B  # each is (4,2) array of xy vertices\n",
    "    \"\"\"\n",
    "\n",
    "    # ------------------------------------------------------------------\n",
    "    # 1. Compute edge vectors and their directions (unit normals)\n",
    "    # ------------------------------------------------------------------\n",
    "    edges   = np.roll(hexagon, -1, axis=0) - hexagon           # v_i = x_{i+1} - x_i\n",
    "    norms   = edges / np.linalg.norm(edges, axis=1, keepdims=True)\n",
    "\n",
    "    # ------------------------------------------------------------------\n",
    "    # 2. Group edges into three parallel pairs\n",
    "    #    We do this by clustering their angles (k‑means‑1D with k=3).\n",
    "    # ------------------------------------------------------------------\n",
    "    angles        = np.arctan2(norms[:, 1], norms[:, 0])        # angle of each edge\n",
    "    angles        = (angles + 2*np.pi) % np.pi                  # fold 180° symmetry\n",
    "    sorted_idx    = np.argsort(angles)\n",
    "    groups        = [sorted_idx[[0, 3]], sorted_idx[[1, 4]], sorted_idx[[2, 5]]]\n",
    "\n",
    "    # Groups come out unsorted — ensure they match your notation\n",
    "    # We’ll re‑label so that (x1x2,x4x5) is group0 etc.\n",
    "    # Because vertices are ordered, the opposite edge to index i is (i+3)%6\n",
    "    g0 = np.array([0, 3])\n",
    "    g1 = np.array([1, 4])\n",
    "    g2 = np.array([5, 2])        # (x6x1, x3x4)\n",
    "\n",
    "    # ------------------------------------------------------------------\n",
    "    # 3. Compute the two “missing” vertices y1 and y2\n",
    "    # ------------------------------------------------------------------\n",
    "    x  = hexagon\n",
    "    y1 = x[5] + (x[1] - x[0])    # x6 + vec(x1→x2)\n",
    "    y2 = x[2] + (x[4] - x[3])    # x3 + vec(x4→x5)\n",
    "\n",
    "    # ------------------------------------------------------------------\n",
    "    # 4. Assemble the two quads\n",
    "    # ------------------------------------------------------------------\n",
    "    quad_front = np.vstack([x[1], x[2], x[3], y1])   # x2‑x3‑x4‑y1\n",
    "    quad_top   = np.vstack([x[0], y2, x[4], x[5]])   # x1‑y2‑x5‑x6\n",
    "\n",
    "    return quad_front.astype(np.float32), quad_top.astype(np.float32)\n"
   ]
  },
  {
   "cell_type": "code",
   "execution_count": 12,
   "id": "84e6bb28-9540-4ea3-adf0-0a61a0396f1d",
   "metadata": {},
   "outputs": [
    {
     "name": "stdout",
     "output_type": "stream",
     "text": [
      "Quad A vertices:\n",
      " [[525. 212.]\n",
      " [111. 297.]\n",
      " [ 31. 212.]\n",
      " [401. 153.]]\n",
      "Quad B vertices:\n",
      " [[535.  93.]\n",
      " [114. 179.]\n",
      " [ 34.  94.]\n",
      " [411.  34.]]\n"
     ]
    }
   ],
   "source": [
    "# `approx` is the (6,1,2) array from cv2.approxPolyDP → reshape to (6,2)\n",
    "hexagon = best_poly.reshape(-1, 2)\n",
    "quadA, quadB = split_brick_face(hexagon)\n",
    "\n",
    "print(\"Quad A vertices:\\n\", quadA)\n",
    "print(\"Quad B vertices:\\n\", quadB)\n"
   ]
  },
  {
   "cell_type": "code",
   "execution_count": 17,
   "id": "c50c2efd-9d32-4116-9e61-4855387a9db3",
   "metadata": {},
   "outputs": [
    {
     "name": "stderr",
     "output_type": "stream",
     "text": [
      "WARNING:matplotlib.image:Clipping input data to the valid range for imshow with RGB data ([0..1] for floats or [0..255] for integers). Got range [0.0..255.0].\n"
     ]
    },
    {
     "data": {
      "image/png": "[encoded data removed]",
      "text/plain": [
       "<Figure size 600x600 with 1 Axes>"
      ]
     },
     "metadata": {},
     "output_type": "display_data"
    }
   ],
   "source": [
    "def draw_quads(img, quadA, quadB):\n",
    "    # Check shapes\n",
    "    if quadA.shape != (4, 2) or quadB.shape != (4, 2):\n",
    "        raise ValueError(\"Quads must have shape (4, 2)\")\n",
    "\n",
    "    # Sanitize input for OpenCV\n",
    "    quadA = np.round(quadA).astype(int).reshape(1, 4, 2)\n",
    "    quadB = np.round(quadB).astype(int).reshape(1, 4, 2)\n",
    "\n",
    "    # Draw contours\n",
    "    cv2.polylines(img, [quadA], isClosed=True, color=(0, 255, 0), thickness=2)\n",
    "    cv2.polylines(img, [quadB], isClosed=True, color=(255, 0, 0), thickness=2)\n",
    "\n",
    "\n",
    "canvas = cv2.cvtColor(clean_mask, cv2.COLOR_GRAY2BGR)\n",
    "draw_quads(canvas, quadA, quadB)\n",
    "\n",
    "plt.figure(figsize=(6, 6))\n",
    "plt.title(\"\")\n",
    "plt.imshow(cv2.cvtColor(canvas, cv2.COLOR_BGR2RGB))\n",
    "plt.axis(\"off\")\n",
    "plt.show()"
   ]
  },
  {
   "cell_type": "code",
   "execution_count": 19,
   "id": "30616826-b0bc-4bbf-b835-a387e1b26386",
   "metadata": {},
   "outputs": [],
   "source": [
    "# # image_pts: np.float32 shape (4,2)\n",
    "# # object_pts: np.float32 shape (4,3)\n",
    "# ok, rvec, tvec = cv2.solvePnP(object_pts, image_pts,\n",
    "#                               K, distCoeffs,\n",
    "#                               flags=cv2.SOLVEPNP_IPPE_SQUARE)\n",
    "# R, _ = cv2.Rodrigues(rvec)\n",
    "# n_cam = R[:, 2]                          # outward normal in camera frame\n"
   ]
  }
 ],
 "metadata": {
  "kernelspec": {
   "display_name": "Python 3 (ipykernel)",
   "language": "python",
   "name": "python3"
  },
  "language_info": {
   "codemirror_mode": {
    "name": "ipython",
    "version": 3
   },
   "file_extension": ".py",
   "mimetype": "text/x-python",
   "name": "python",
   "nbconvert_exporter": "python",
   "pygments_lexer": "ipython3",
   "version": "3.10.13"
  }
 },
 "nbformat": 4,
 "nbformat_minor": 5
}
